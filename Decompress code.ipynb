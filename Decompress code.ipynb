{
 "cells": [
  {
   "cell_type": "code",
   "execution_count": 1,
   "id": "42bd5156",
   "metadata": {},
   "outputs": [],
   "source": [
    "import os\n",
    "import zipfile"
   ]
  },
  {
   "cell_type": "code",
   "execution_count": 2,
   "id": "25f6307a",
   "metadata": {},
   "outputs": [
    {
     "data": {
      "text/plain": [
       "'C:\\\\Users\\\\yechan\\\\Desktop\\\\Car'"
      ]
     },
     "execution_count": 2,
     "metadata": {},
     "output_type": "execute_result"
    }
   ],
   "source": [
    "os.getcwd()"
   ]
  },
  {
   "cell_type": "code",
   "execution_count": 3,
   "id": "e8c87578",
   "metadata": {},
   "outputs": [
    {
     "data": {
      "text/plain": [
       "'D:\\\\Car\\\\Train\\\\label'"
      ]
     },
     "execution_count": 3,
     "metadata": {},
     "output_type": "execute_result"
    }
   ],
   "source": [
    "#Train label\n",
    "os.chdir(\"D:\\Car\\Train\\label\")\n",
    "os.getcwd()"
   ]
  },
  {
   "cell_type": "code",
   "execution_count": 4,
   "id": "97642856",
   "metadata": {},
   "outputs": [],
   "source": [
    "zip_list = os.listdir()"
   ]
  },
  {
   "cell_type": "code",
   "execution_count": 5,
   "id": "82d00412",
   "metadata": {},
   "outputs": [],
   "source": [
    "#json 파일만 압축해제\n",
    "for zip_name in zip_list:\n",
    "    with zipfile.ZipFile(zip_name, \"r\") as zip_file:\n",
    "        file_infos = zip_file.infolist()\n",
    "        for file_info in file_infos:\n",
    "            if file_info.filename.endswith(\".json\"):\n",
    "                file_info.filename = file_info.filename.split(\"/\")[-1]\n",
    "                zip_file.extract(file_info)\n",
    "    print(zip_name)"
   ]
  },
  {
   "cell_type": "code",
   "execution_count": 6,
   "id": "c10fa4f2",
   "metadata": {},
   "outputs": [],
   "source": [
    "#zip 파일 삭제\n",
    "for zip_name in zip_list:\n",
    "    os.remove(zip_name)"
   ]
  },
  {
   "cell_type": "code",
   "execution_count": 2,
   "id": "5bfd7233",
   "metadata": {},
   "outputs": [
    {
     "data": {
      "text/plain": [
       "'D:\\\\Car\\\\Train\\\\image'"
      ]
     },
     "execution_count": 2,
     "metadata": {},
     "output_type": "execute_result"
    }
   ],
   "source": [
    "#Train image\n",
    "os.chdir(\"D:\\Car\\Train\\image\")\n",
    "os.getcwd()"
   ]
  },
  {
   "cell_type": "code",
   "execution_count": 3,
   "id": "9d2485f4",
   "metadata": {},
   "outputs": [],
   "source": [
    "zip_list = os.listdir()"
   ]
  },
  {
   "cell_type": "code",
   "execution_count": null,
   "id": "2b5a4067",
   "metadata": {},
   "outputs": [
    {
     "name": "stdout",
     "output_type": "stream",
     "text": [
      "TS1.zip\n",
      "TS2.zip\n",
      "TS3.zip\n"
     ]
    }
   ],
   "source": [
    "#jpg 파일만 압축해제\n",
    "for zip_name in zip_list:\n",
    "    with zipfile.ZipFile(zip_name, \"r\") as zip_file:\n",
    "        file_infos = zip_file.infolist()\n",
    "        for file_info in file_infos:\n",
    "            if file_info.filename.endswith(\".jpg\"):\n",
    "                file_info.filename = file_info.filename.split(\"/\")[-1]\n",
    "                zip_file.extract(file_info)\n",
    "    print(zip_name)"
   ]
  },
  {
   "cell_type": "code",
   "execution_count": null,
   "id": "8c3982f4",
   "metadata": {},
   "outputs": [],
   "source": [
    "#Valid label\n",
    "os.chdir(\"D:\\Car\\Valid\\label\")\n",
    "os.getcwd()"
   ]
  },
  {
   "cell_type": "code",
   "execution_count": null,
   "id": "584b25d2",
   "metadata": {},
   "outputs": [],
   "source": [
    "zip_list = os.listdir()"
   ]
  },
  {
   "cell_type": "code",
   "execution_count": null,
   "id": "c3f8c5a0",
   "metadata": {},
   "outputs": [],
   "source": [
    "#json 파일만 압축해제\n",
    "for zip_name in zip_list:\n",
    "    with zipfile.ZipFile(zip_name, \"r\") as zip_file:\n",
    "        file_infos = zip_file.infolist()\n",
    "        for file_info in file_infos:\n",
    "            if file_info.filename.endswith(\".json\"):\n",
    "                file_info.filename = file_info.filename.split(\"/\")[-1]\n",
    "                zip_file.extract(file_info)\n",
    "    print(zip_name)"
   ]
  },
  {
   "cell_type": "code",
   "execution_count": null,
   "id": "bb3c5f3d",
   "metadata": {},
   "outputs": [],
   "source": [
    "#zip 파일 삭제\n",
    "for zip_name in zip_list:\n",
    "    os.remove(zip_name)"
   ]
  },
  {
   "cell_type": "code",
   "execution_count": null,
   "id": "77982aa7",
   "metadata": {},
   "outputs": [],
   "source": [
    "#Valid image\n",
    "os.chdir(\"D:\\Car\\Valid\\image\")\n",
    "os.getcwd()"
   ]
  },
  {
   "cell_type": "code",
   "execution_count": null,
   "id": "f08ce7b2",
   "metadata": {},
   "outputs": [],
   "source": [
    "zip_list = os.listdir()"
   ]
  },
  {
   "cell_type": "code",
   "execution_count": null,
   "id": "c47b8aa3",
   "metadata": {},
   "outputs": [],
   "source": [
    "#jpg 파일만 압축해제\n",
    "for zip_name in zip_list:\n",
    "    with zipfile.ZipFile(zip_name, \"r\") as zip_file:\n",
    "        file_infos = zip_file.infolist()\n",
    "        for file_info in file_infos:\n",
    "            if file_info.filename.endswith(\".jpg\"):\n",
    "                file_info.filename = file_info.filename.split(\"/\")[-1]\n",
    "                zip_file.extract(file_info)\n",
    "    print(zip_name)"
   ]
  },
  {
   "cell_type": "code",
   "execution_count": null,
   "id": "ffca0885",
   "metadata": {},
   "outputs": [],
   "source": [
    "#zip 파일 삭제\n",
    "for zip_name in zip_list:\n",
    "    os.remove(zip_name)"
   ]
  }
 ],
 "metadata": {
  "kernelspec": {
   "display_name": "Python 3 (ipykernel)",
   "language": "python",
   "name": "python3"
  },
  "language_info": {
   "codemirror_mode": {
    "name": "ipython",
    "version": 3
   },
   "file_extension": ".py",
   "mimetype": "text/x-python",
   "name": "python",
   "nbconvert_exporter": "python",
   "pygments_lexer": "ipython3",
   "version": "3.8.16"
  }
 },
 "nbformat": 4,
 "nbformat_minor": 5
}
